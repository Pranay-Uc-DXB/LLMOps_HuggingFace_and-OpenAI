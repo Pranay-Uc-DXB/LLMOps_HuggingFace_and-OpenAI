{
 "cells": [
  {
   "cell_type": "code",
   "execution_count": 26,
   "metadata": {},
   "outputs": [],
   "source": [
    "#!pip install openai"
   ]
  },
  {
   "cell_type": "code",
   "execution_count": 27,
   "metadata": {},
   "outputs": [
    {
     "data": {
      "text/plain": [
       "<openai.OpenAI at 0x1b6a0574f50>"
      ]
     },
     "execution_count": 27,
     "metadata": {},
     "output_type": "execute_result"
    }
   ],
   "source": [
    "from openai import OpenAI\n",
    "client=OpenAI(api_key=\"--MY API KEY--\")\n",
    "client"
   ]
  },
  {
   "cell_type": "code",
   "execution_count": 28,
   "metadata": {},
   "outputs": [],
   "source": [
    "file = client.files.create(\n",
    "  file=open(\"Trading_Strategy_guide.txt\", \"rb\"),\n",
    "  purpose='assistants')"
   ]
  },
  {
   "cell_type": "code",
   "execution_count": 29,
   "metadata": {},
   "outputs": [],
   "source": [
    "# Create an assistant using the file ID\n",
    "my_assistant = client.beta.assistants.create(\n",
    "  instructions=\"You are a wall street trader. When asked a trading question, summarize and write the answer to the question.\",\n",
    "  model=\"gpt-4o\",\n",
    "  tools=[{\"type\": \"code_interpreter\"}],\n",
    "  tool_resources={\"code_interpreter\": {\"file_ids\": [file.id]}})"
   ]
  },
  {
   "cell_type": "code",
   "execution_count": 30,
   "metadata": {},
   "outputs": [
    {
     "name": "stdout",
     "output_type": "stream",
     "text": [
      "Thread(id='thread_nXw4I78Gr3Rj4lC0TmX0Fqsx', created_at=1726503359, metadata={}, object='thread', tool_resources=ToolResources(code_interpreter=None, file_search=None))\n"
     ]
    }
   ],
   "source": [
    "empty_thread = client.beta.threads.create()\n",
    "print(empty_thread)"
   ]
  },
  {
   "cell_type": "code",
   "execution_count": 31,
   "metadata": {},
   "outputs": [
    {
     "name": "stdout",
     "output_type": "stream",
     "text": [
      "Message(id='msg_wVCxTIs3Xj7NaiDLmZKqmXXm', assistant_id=None, attachments=[], completed_at=None, content=[TextContentBlock(text=Text(annotations=[], value='What is the article about?'), type='text')], created_at=1726503360, incomplete_at=None, incomplete_details=None, metadata={}, object='thread.message', role='user', run_id=None, status=None, thread_id='thread_nXw4I78Gr3Rj4lC0TmX0Fqsx')\n"
     ]
    }
   ],
   "source": [
    "message = client.beta.threads.messages.create(\n",
    "  thread_id=empty_thread.id,\n",
    "  role=\"user\",\n",
    "  content=\"What is the article about?\")\n",
    "print(message)"
   ]
  },
  {
   "cell_type": "code",
   "execution_count": 32,
   "metadata": {},
   "outputs": [
    {
     "name": "stdout",
     "output_type": "stream",
     "text": [
      "Run(id='run_2nZqOGUG0FFj5yyCq78eicLF', assistant_id='asst_cT2fmdBppZ28QIc2oyAmKp3e', cancelled_at=None, completed_at=None, created_at=1726503360, expires_at=1726503960, failed_at=None, incomplete_details=None, instructions='You are a wall street trader. When asked a trading question, summarize and write the answer to the question.', last_error=None, max_completion_tokens=None, max_prompt_tokens=None, metadata={}, model='gpt-4o', object='thread.run', parallel_tool_calls=True, required_action=None, response_format='auto', started_at=None, status='queued', thread_id='thread_nXw4I78Gr3Rj4lC0TmX0Fqsx', tool_choice='auto', tools=[CodeInterpreterTool(type='code_interpreter')], truncation_strategy=TruncationStrategy(type='auto', last_messages=None), usage=None, temperature=1.0, top_p=1.0, tool_resources={})\n",
      "queued\n"
     ]
    }
   ],
   "source": [
    "run = client.beta.threads.runs.create(\n",
    "  thread_id=empty_thread.id,\n",
    "  assistant_id=my_assistant.id)\n",
    "\n",
    "print(run)\n",
    "print(run.status)"
   ]
  },
  {
   "cell_type": "code",
   "execution_count": 33,
   "metadata": {},
   "outputs": [
    {
     "name": "stdout",
     "output_type": "stream",
     "text": [
      "SyncCursorPage[Message](data=[Message(id='msg_wVCxTIs3Xj7NaiDLmZKqmXXm', assistant_id=None, attachments=[], completed_at=None, content=[TextContentBlock(text=Text(annotations=[], value='What is the article about?'), type='text')], created_at=1726503360, incomplete_at=None, incomplete_details=None, metadata={}, object='thread.message', role='user', run_id=None, status=None, thread_id='thread_nXw4I78Gr3Rj4lC0TmX0Fqsx')], object='list', first_id='msg_wVCxTIs3Xj7NaiDLmZKqmXXm', last_id='msg_wVCxTIs3Xj7NaiDLmZKqmXXm', has_more=False)\n"
     ]
    }
   ],
   "source": [
    "thread_messages = client.beta.threads.messages.list(thread_id=empty_thread.id)\n",
    "print(thread_messages)"
   ]
  },
  {
   "cell_type": "code",
   "execution_count": 34,
   "metadata": {},
   "outputs": [
    {
     "name": "stdout",
     "output_type": "stream",
     "text": [
      "The article discusses trading strategies, specifically focusing on a news trading strategy. It highlights the following key points:\n",
      "\n",
      "1. **Definition and Challenges**: News trading involves trading based on market expectations and news releases. It requires quick assessment and judgment due to the rapid spread of information in the digital age.\n",
      "2. **Key Considerations**: \n",
      "   - Whether the news is fully or partially factored into an instrument's price.\n",
      "   - Alignment of news with market expectations.\n",
      "3. **Tips for News Trading**:\n",
      "   - Treat each market and news release individually.\n",
      "   - Develop specific strategies for different news events.\n",
      "   - Recognize that market expectations and reactions often outweigh the news itself.\n",
      "4. **Market Dynamics**: Financial markets are driven by information flow. Traders often predict the impact of news on market responses, factoring anticipated news into asset prices beforehand.\n",
      "5. **Common Strategies**:\n",
      "   - Trading on price action before official announcements.\n",
      "   - Employing the 'buy the rumour, sell the news' strategy.\n",
      "6. **Benefits**:\n",
      "   - Defined entry and exit points based on market interpretation of news.\n",
      "   \n",
      "Overall, the article provides insights on how to effectively utilize news releases for trading, emphasizing the importance of speed, market understanding, and strategic planning.\n"
     ]
    }
   ],
   "source": [
    "while True:\n",
    "    run = client.beta.threads.runs.retrieve(thread_id=empty_thread.id, run_id=run.id)\n",
    "    if run.status=='completed':\n",
    "        messages=client.beta.threads.messages.list(thread_id=empty_thread.id)\n",
    "        latest_message= messages.data[0]\n",
    "        text= latest_message.content[0].text.value\n",
    "        print(text)\n",
    "        break;"
   ]
  },
  {
   "cell_type": "code",
   "execution_count": null,
   "metadata": {},
   "outputs": [],
   "source": []
  }
 ],
 "metadata": {
  "kernelspec": {
   "display_name": "Python 3",
   "language": "python",
   "name": "python3"
  },
  "language_info": {
   "codemirror_mode": {
    "name": "ipython",
    "version": 3
   },
   "file_extension": ".py",
   "mimetype": "text/x-python",
   "name": "python",
   "nbconvert_exporter": "python",
   "pygments_lexer": "ipython3",
   "version": "3.11.5"
  }
 },
 "nbformat": 4,
 "nbformat_minor": 2
}
